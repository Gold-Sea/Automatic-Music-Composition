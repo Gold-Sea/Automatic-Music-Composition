{
 "cells": [
  {
   "cell_type": "code",
   "execution_count": 53,
   "id": "9b07a406",
   "metadata": {},
   "outputs": [],
   "source": [
    "from mido import Message\n",
    "from mido import MidiFile\n",
    "from pymidifile import *\n",
    "from reformat_midi import *\n",
    "import numpy as np"
   ]
  },
  {
   "cell_type": "code",
   "execution_count": 54,
   "id": "bccc7159",
   "metadata": {},
   "outputs": [],
   "source": [
    "def GetTrackName(track):\n",
    "    \"\"\"Extract the track name in a track.\n",
    "    \"\"\"\n",
    "    for msg in track:\n",
    "        if (msg.type == 'track_name'):\n",
    "            return msg.name\n",
    "    \n",
    "    \n",
    "def FromMIDIToChromosome(filename):\n",
    "    \"\"\"Convert a MIDI file into chromosome representation\n",
    "    Parameters:\n",
    "        filename: Path of the MIDI file. The file should be single-track and properly quantized.\n",
    "    \n",
    "    [Note] Integer representation of pitches in Chromosome:\n",
    "        0 = break,\n",
    "        1 = F3, 2 = #F3, ... , 26 = #F5, 27 = G5\n",
    "        -1 = duration extension\n",
    "        unit duration = an eighth note\n",
    "    [Note] Integer representation of pitches as MIDI note number:\n",
    "        60 = C4\n",
    "        53 = F3, 54 = #F3, ... , 78 = #F5, 79 = G5\n",
    "    [Note] Rule of convertion:\n",
    "        Chromosome number + 52 == MIDI note number\n",
    "    \n",
    "    Notes\n",
    "    \"\"\"\n",
    "    \n",
    "    #mid = MidiFile(filename)\n",
    "    #print(mid.ticks_per_beat)\n",
    "    #for i,track in enumerate(mid.tracks):\n",
    "    #    print(i,GetTrackName(track))\n",
    "    #x = int(input())\n",
    "    #for msg in mid.tracks[0]:\n",
    "    #    print(msg)\n",
    "    reformatted = reformat_midi(filename, verbose=False, write_to_file=False, override_time_info=True)\n",
    "    matrix = mid_to_matrix(reformatted)\n",
    "    quantizer = quantize_matrix(matrix, stepSize=0.5, quantizeOffsets=True, quantizeDurations=True)\n",
    "    note_list = np.array(quantizer)\n",
    "    print(note_list[:,1]) # unit duration = eighth note\n",
    "    print(note_list[:,2])\n",
    "    print(note_list[:,1]+note_list[:,2])\n",
    "    print(np.max(note_list[:,1]+note_list[:,2]))\n",
    "    length = int(np.max(note_list[:,1]+note_list[:,2]))\n",
    "    output = np.zeros(length)\n",
    "    for note in note_list:\n",
    "        \n",
    "    #for note in quantizer:\n",
    "    #    print(note)\n",
    "    "
   ]
  },
  {
   "cell_type": "code",
   "execution_count": 55,
   "id": "0c026a3a",
   "metadata": {
    "scrolled": false
   },
   "outputs": [
    {
     "name": "stdout",
     "output_type": "stream",
     "text": [
      "file name: new_chopin.mid\n",
      "NAME new_chopin.mid\n",
      "0\n",
      "[  7.5   8.   11.  ... 460.  461.  461. ]\n",
      "[0.5 3.  0.5 ... 4.  3.  3. ]\n",
      "[  8.   11.   11.5 ... 464.  464.  464. ]\n",
      "464.0\n"
     ]
    }
   ],
   "source": [
    "FromMIDIToChromosome('new_chopin.mid')"
   ]
  },
  {
   "cell_type": "code",
   "execution_count": null,
   "id": "769cb287",
   "metadata": {},
   "outputs": [],
   "source": []
  }
 ],
 "metadata": {
  "kernelspec": {
   "display_name": "Python 3 (ipykernel)",
   "language": "python",
   "name": "python3"
  },
  "language_info": {
   "codemirror_mode": {
    "name": "ipython",
    "version": 3
   },
   "file_extension": ".py",
   "mimetype": "text/x-python",
   "name": "python",
   "nbconvert_exporter": "python",
   "pygments_lexer": "ipython3",
   "version": "3.9.7"
  }
 },
 "nbformat": 4,
 "nbformat_minor": 5
}
